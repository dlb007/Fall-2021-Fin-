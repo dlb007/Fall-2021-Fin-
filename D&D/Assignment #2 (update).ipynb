{
 "cells": [
  {
   "cell_type": "code",
   "execution_count": 1,
   "source": [
    "# First, import the libraries you need for reading in web content. Use the model in \"WebScraping.ipynb.\" Set the URL to a website of interest for your work: this can be anything, but will work best if it's a static site (not a social media hashtag, etc.)\r\n",
    "\r\n",
    "import urllib.request, urllib.error, urllib.parse\r\n",
    "\r\n",
    "url = 'https://researchguides.dartmouth.edu/filmstudies/adaptations'\r\n",
    "\r\n",
    "response = urllib.request.urlopen(url)\r\n",
    "webContent = response.read()\r\n",
    "HTML = response.read()\r\n",
    "\r\n",
    "print(webContent[0:1000])"
   ],
   "outputs": [
    {
     "output_type": "stream",
     "name": "stdout",
     "text": [
      "b'<!DOCTYPE html><html lang=\"en\"><head><meta http-equiv=\"X-UA-Compatible\" content=\"IE=Edge\" /><meta http-equiv=\"Content-Type\" content=\"text/html; charset=utf-8\" /><title>Film adaptations - Film Studies - Research Guides at Dartmouth College</title><meta name=\"viewport\" content=\"width=device-width, initial-scale=1.0\"><meta name=\"robots\" content=\"noarchive\" /><!-- favicon.twig -->\\n<link rel=\"apple-touch-icon\" sizes=\"180x180\" href=\"//libapps.s3.amazonaws.com/apps/common/favicon/apple-touch-icon.png\">\\n<link rel=\"icon\" type=\"image/png\" sizes=\"32x32\" href=\"//libapps.s3.amazonaws.com/apps/common/favicon/favicon-32x32.png\">\\n<link rel=\"icon\" type=\"image/png\" sizes=\"16x16\" href=\"//libapps.s3.amazonaws.com/apps/common/favicon/favicon-16x16.png\">\\n<link rel=\"manifest\" href=\"//libapps.s3.amazonaws.com/apps/common/favicon/site.webmanifest\">\\n<link rel=\"mask-icon\" href=\"//libapps.s3.amazonaws.com/apps/common/favicon/safari-pinned-tab.svg\" color=\"#5bbad5\">\\n<link rel=\"shortcut icon\" href=\"//libapps.s3.amaz'\n"
     ]
    }
   ],
   "metadata": {}
  },
  {
   "cell_type": "code",
   "execution_count": 2,
   "source": [
    "# Second, save the website you are interested in as a file. Name that file appropriately to the content - for instance, something like \"reviewarchive.html\" would make sense if you are pulling reviews of a movie or book. After you run it, check that the file looks like it has the content you need. If it doesn't, try to figure out what went wrong.\r\n",
    "\r\n",
    "f = open('adaptationguides.html', 'wb')\r\n",
    "f.write(webContent)\r\n",
    "f.close()"
   ],
   "outputs": [],
   "metadata": {}
  },
  {
   "cell_type": "code",
   "execution_count": 3,
   "source": [
    "# Third, append another page of connected content: you'll need to use a modified version of the previous code, changing the URL, and using \"append binary\" to add to the file.\r\n",
    " \r\n",
    "url = 'https://researchguides.dartmouth.edu/filmstudies/adaptations'\r\n",
    "\r\n",
    "response = urllib.request.urlopen(url)\r\n",
    "webContent = response.read()\r\n",
    "\r\n",
    "print(webContent[0:1000])\r\n",
    "\r\n",
    "f = open('adaptationguides.html', 'ab')\r\n",
    "f.write(webContent)\r\n",
    "f.close()"
   ],
   "outputs": [
    {
     "output_type": "stream",
     "name": "stdout",
     "text": [
      "b'<!DOCTYPE html><html lang=\"en\"><head><meta http-equiv=\"X-UA-Compatible\" content=\"IE=Edge\" /><meta http-equiv=\"Content-Type\" content=\"text/html; charset=utf-8\" /><title>Film adaptations - Film Studies - Research Guides at Dartmouth College</title><meta name=\"viewport\" content=\"width=device-width, initial-scale=1.0\"><meta name=\"robots\" content=\"noarchive\" /><!-- favicon.twig -->\\n<link rel=\"apple-touch-icon\" sizes=\"180x180\" href=\"//libapps.s3.amazonaws.com/apps/common/favicon/apple-touch-icon.png\">\\n<link rel=\"icon\" type=\"image/png\" sizes=\"32x32\" href=\"//libapps.s3.amazonaws.com/apps/common/favicon/favicon-32x32.png\">\\n<link rel=\"icon\" type=\"image/png\" sizes=\"16x16\" href=\"//libapps.s3.amazonaws.com/apps/common/favicon/favicon-16x16.png\">\\n<link rel=\"manifest\" href=\"//libapps.s3.amazonaws.com/apps/common/favicon/site.webmanifest\">\\n<link rel=\"mask-icon\" href=\"//libapps.s3.amazonaws.com/apps/common/favicon/safari-pinned-tab.svg\" color=\"#5bbad5\">\\n<link rel=\"shortcut icon\" href=\"//libapps.s3.amaz'\n"
     ]
    }
   ],
   "metadata": {}
  },
  {
   "cell_type": "code",
   "execution_count": 4,
   "source": [
    "#  Bonus Challenge: If you scraped something repetitive (for instance, I used two review pages from Rotten Tomatoes as I was testing my solution), you'll notice you have a lot of redundancy in your file,\r\n",
    "#  and probably only a few things you really want. Can you structure your data to only save the part of the webContent pull you are interested in? \r\n",
    "# (If you're new to programming or Python, or stressed for time this week, don't worry about the bonus rounds!)\r\n",
    "# For the bonus challenge, you would need to then remove some of the excess content (like the HTML tags) from your combined html file.\r\n",
    "\r\n",
    "contents = str(HTML)\r\n",
    "startLoc = contents.find(\"<span id=\")\r\n",
    "endLoc = contents.find(\"</span>\")\r\n",
    "\r\n",
    "print(startLoc)\r\n",
    "print(endLoc)\r\n",
    "\r\n",
    "contents = contents[startLoc: endLoc]\r\n",
    "print(contents[0: 500])\r\n"
   ],
   "outputs": [
    {
     "output_type": "stream",
     "name": "stdout",
     "text": [
      "-1\n",
      "-1\n",
      "\n"
     ]
    }
   ],
   "metadata": {}
  },
  {
   "cell_type": "code",
   "execution_count": 5,
   "source": [
    "#Next, pull in the contents of the new file (with multiple pages of HTML) using our text file reading example from week one as a model. Store those contents in a new variable, named appropriately to the contents. Print a subset of the output to confirm the import was successful.\r\n",
    "\r\n",
    "f = open(\"adaptationguides.html\",\"r\")\r\n",
    "reviews = f.read()\r\n",
    "print(reviews[0:1000])\r\n",
    "f.close()"
   ],
   "outputs": [
    {
     "output_type": "stream",
     "name": "stdout",
     "text": [
      "<!DOCTYPE html><html lang=\"en\"><head><meta http-equiv=\"X-UA-Compatible\" content=\"IE=Edge\" /><meta http-equiv=\"Content-Type\" content=\"text/html; charset=utf-8\" /><title>Film adaptations - Film Studies - Research Guides at Dartmouth College</title><meta name=\"viewport\" content=\"width=device-width, initial-scale=1.0\"><meta name=\"robots\" content=\"noarchive\" /><!-- favicon.twig -->\n",
      "<link rel=\"apple-touch-icon\" sizes=\"180x180\" href=\"//libapps.s3.amazonaws.com/apps/common/favicon/apple-touch-icon.png\">\n",
      "<link rel=\"icon\" type=\"image/png\" sizes=\"32x32\" href=\"//libapps.s3.amazonaws.com/apps/common/favicon/favicon-32x32.png\">\n",
      "<link rel=\"icon\" type=\"image/png\" sizes=\"16x16\" href=\"//libapps.s3.amazonaws.com/apps/common/favicon/favicon-16x16.png\">\n",
      "<link rel=\"manifest\" href=\"//libapps.s3.amazonaws.com/apps/common/favicon/site.webmanifest\">\n",
      "<link rel=\"mask-icon\" href=\"//libapps.s3.amazonaws.com/apps/common/favicon/safari-pinned-tab.svg\" color=\"#5bbad5\">\n",
      "<link rel=\"shortcut icon\" href=\"//libapps.s3.amaz\n"
     ]
    }
   ],
   "metadata": {}
  },
  {
   "cell_type": "code",
   "execution_count": 33,
   "source": [
    "\r\n",
    "# Finally, use the examples in \"Conditionals.ipynb\" and \"PlayingWithStrings.ipynb\" to run at least five simple data analyses commands on your content and print the results with an explanatory statement, as in the examples. Here's a few suggestions to try, but feel free to expand on them.\r\n",
    "\r\n",
    "# 1. Count and print the occurences of a key word\r\n",
    "\r\n",
    "print(\"Occurences of adaptation: \" + str(reviews.count(\"adaptation\")))\r\n",
    "\r\n",
    "# 2. Split your dataset into strings based on word spacing, and print some of the words to view the set\r\n",
    "\r\n",
    "split_reviews = reviews.split(\" \")\r\n",
    "print(split_reviews[800:803])\r\n",
    "\r\n",
    "# 3. Locate the index of a word of interest, then print the phrase surrounding it\r\n",
    "\r\n",
    "hollywood = split_reviews.index(\"Hollywood\")\r\n",
    "print(split_reviews[hollywood-10:hollywood+10])\r\n",
    "\r\n",
    "#4. Compare the number of occurences of two significant words, such as character names, using a conditional statement. The printed statement should be different for each outcome, and handle the case where the numbers are the same (try using if, elif, and else)\r\n",
    "\r\n",
    "hollywood_count = reviews.count(\"Hollywood\")\r\n",
    "bollywood_count = reviews.count(\"Bollywood\")\r\n",
    "\r\n",
    "if bollywood_count > hollywood_count:\r\n",
    "    print(\"The film winner is Bollywood\")\r\n",
    "elif hollywood_count > bollywood_count:\r\n",
    "    print(\"It is a tie, both Bollywood and Hollywood win!!!\")\r\n",
    "else:\r\n",
    "    print(\"Apparently there is no winner.\")\r\n",
    "\r\n",
    "# 4. Search for a word and use \"in\" to print true if the word is found\r\n",
    "\r\n",
    "Holmes = \"holmes\" in reviews\r\n",
    "print(\"Is Sherlock Holmes present? \" + str(Holmes))"
   ],
   "outputs": [
    {
     "output_type": "stream",
     "name": "stdout",
     "text": [
      "Occurences of adaptation: 90\n",
      "['', '', '']\n",
      "['whose', 'plays', 'have', 'appeared', 'in', 'film', 'form', 'as', 'a', 'large-budget', 'Hollywood', 'musical', '(<em><i>West', 'Side', 'Story</i></em>', '(Jerome', 'Robbins', 'and', 'Robert', 'Wise,']\n",
      "It is a tie, both Bollywood and Hollywood win!!!\n",
      "Is Sherlock Holmes there? False\n"
     ]
    }
   ],
   "metadata": {}
  }
 ],
 "metadata": {
  "orig_nbformat": 4,
  "language_info": {
   "name": "python",
   "version": "3.8.8",
   "mimetype": "text/x-python",
   "codemirror_mode": {
    "name": "ipython",
    "version": 3
   },
   "pygments_lexer": "ipython3",
   "nbconvert_exporter": "python",
   "file_extension": ".py"
  },
  "kernelspec": {
   "name": "python3",
   "display_name": "Python 3.8.8 64-bit"
  },
  "interpreter": {
   "hash": "598d64e08a06bfba065a99698ec5bbec753236817de80e4f3bcf221574aa140c"
  }
 },
 "nbformat": 4,
 "nbformat_minor": 2
}