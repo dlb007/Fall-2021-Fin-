{
 "cells": [
  {
   "cell_type": "code",
   "execution_count": null,
   "source": [
    "import pandas\r\n",
    "pandas.__version__"
   ],
   "outputs": [],
   "metadata": {}
  },
  {
   "cell_type": "markdown",
   "source": [
    "Pandas Jupyter Experiment\r\n",
    "\r\n",
    "For this exercise, you will be choosing a dataset that is already available in CSV, using either the links suggested in the module or an external source. Note that the completeness and organization of the CSV will impact your success, so you might want to investigate it using our initial methods before you commit to it and your object of analysis.\r\n",
    "I have provided the headings for each section: you can modify them to reflect your final workflow. Here's what you need to accomplish and document:\r\n",
    "Complete the five sequential stages of importing, analyzing, and visualizing your CSV data using the Pandas library. The headers are provided, but you will need to plan out and structure what happens in the code using a combination of our class exercise and the textbook for guidance.\r\n",
    "\r\n",
    "Create a well-structured, readable documentation for every cell of your Python code. Use Markdown (as demonstrated in this example) and preview the results on GitHub to confirm it works as intended.\r\n",
    "\r\n",
    "As a bonus exercise, output and save a meaningful, formatted visualization, following the examples in the textbook."
   ],
   "metadata": {}
  },
  {
   "cell_type": "markdown",
   "source": [
    "Stage One: Import Libraries / Data\r\n",
    "(Describe your code briefly here)\r\n",
    "First, we import all necessary libraries. To adjust this workflow, change the contents of the variable file_name below to the name of your CSV file. Make sure the file is co-located (stored in the same folder) with your notebook to use the formatting as written."
   ],
   "metadata": {}
  },
  {
   "cell_type": "code",
   "execution_count": null,
   "source": [
    "file_name = 'snyder_cut.csv'\r\n",
    "import pandas as pd\r\n",
    "\r\n",
    "df = pd.read_csv(file_name, delimiter=\",\")"
   ],
   "outputs": [],
   "metadata": {}
  },
  {
   "cell_type": "code",
   "execution_count": null,
   "source": [
    "import pandas as pd\r\n",
    "\r\n",
    "#create a dataframe object from a csv\r\n",
    "oscar_df = pd.read_csv('the_oscar_award.csv', delimiter=\",\")\r\n",
    "\r\n",
    "oscar_df"
   ],
   "outputs": [],
   "metadata": {}
  },
  {
   "cell_type": "markdown",
   "source": [
    "Stage Two: Display a Summary and Sub-sections of the Data\r\n",
    "(Show at least three different views using filtering or value sorting, and describe your choices)\r\n",
    "Note that your dataset may have errors on importing depending on contents / scale.\r\n",
    "\r\n",
    "This stage displays some summary information, a random sample, and the ten most common usernames in the dataset so we can get a sense of the contents."
   ],
   "metadata": {}
  },
  {
   "cell_type": "code",
   "execution_count": null,
   "source": [
    "print(df.describe(include='all'))\r\n",
    "\r\n",
    "print(df.sample(10))\r\n",
    "\r\n",
    "print(df['from_user'].value_counts()[:10])"
   ],
   "outputs": [],
   "metadata": {}
  },
  {
   "cell_type": "code",
   "execution_count": null,
   "source": [
    "oscar_df.head(10)\r\n"
   ],
   "outputs": [],
   "metadata": {}
  },
  {
   "cell_type": "code",
   "execution_count": null,
   "source": [
    "\r\n",
    "print(oscar_df['year_ceremony'].min())\r\n",
    "print(oscar_df['year_film'].mean())\r\n",
    "print(oscar_df['year_film'].max())"
   ],
   "outputs": [],
   "metadata": {}
  },
  {
   "cell_type": "code",
   "execution_count": null,
   "source": [
    "oscar_df.sample(10)\r\n"
   ],
   "outputs": [],
   "metadata": {}
  },
  {
   "cell_type": "code",
   "execution_count": null,
   "source": [
    "oscar_df.describe(include='all')\r\n"
   ],
   "outputs": [],
   "metadata": {}
  },
  {
   "cell_type": "markdown",
   "source": [
    "Stage Three: Clean Your Data\r\n",
    "(Varies by dataset: you might replace missing values with a filler, replace shorthand from the dataset with readable language, and/or delete duplicates)\r\n",
    "\r\n",
    "Cleaning Twitter data is dependent upon your goals: for this example, we first remove all duplicates by text (to avoid the excessive retweets). We then delete several columns that aren't useful for our analysis - this might vary by project, so to edit this, comment out any deletions below that don't apply."
   ],
   "metadata": {}
  },
  {
   "cell_type": "code",
   "execution_count": null,
   "source": [
    "# The first section deletes the unwanted columns\r\n",
    "del df['geo_coordinates']\r\n",
    "del df['user_lang']\r\n",
    "del df['in_reply_to_screen_name']\r\n",
    "del df['in_reply_to_status_id_str']\r\n",
    "del df['in_reply_to_user_id_str']\r\n",
    "del df['from_user_id_str']\r\n",
    "del df['source']\r\n",
    "del df['profile_image_url']\r\n",
    "del df['status_url']\r\n",
    "del df['entities_str']\r\n",
    "del df['id_str']"
   ],
   "outputs": [],
   "metadata": {}
  },
  {
   "cell_type": "code",
   "execution_count": null,
   "source": [
    "# The second section drops duplicates and replaces empty text\r\n",
    "\r\n",
    "df = df.drop_duplicates('text')\r\n",
    "df.fillna('Not available')"
   ],
   "outputs": [],
   "metadata": {}
  },
  {
   "cell_type": "code",
   "execution_count": null,
   "source": [
    "oscar_df['name'].value_counts()[:10]\r\n"
   ],
   "outputs": [],
   "metadata": {}
  },
  {
   "cell_type": "markdown",
   "source": [
    "Stage Four: Plot Your Data\r\n",
    "(Try at least three different plots - bar, hist, box, area, scatter, hexbin, and pie are all worth viewing - and describe your choices)\r\n",
    "\r\n",
    "This notebook includes three visualizations that should work with any dataset.\r\n",
    "\r\n",
    "To handle larger datasets with multiple days of date, the first example plots over time, but first truncates each timestamp to remove minutes and seconds.\r\n",
    "\r\n",
    "The second example uses extraction to draw any element with the structure \"#text\" out of our text. We can then plot the values of common hashtags: excluding the hashtag at 0 is an easy way to remove the original search query.\r\n",
    "\r\n",
    "The final example uses a pie chart (which is rarely as useful) to demonstrate relative activity of users. This is a good quick way to see how much a particular conversation relies upon a few participants or amplifiers."
   ],
   "metadata": {}
  },
  {
   "cell_type": "code",
   "execution_count": null,
   "source": [
    "oscar_df['film'].value_counts()\r\n"
   ],
   "outputs": [],
   "metadata": {}
  },
  {
   "cell_type": "code",
   "execution_count": null,
   "source": [
    "oscar_df['film'] = oscar_df['film'].fillna('No title available')\r\n"
   ],
   "outputs": [],
   "metadata": {}
  },
  {
   "cell_type": "code",
   "execution_count": null,
   "source": [
    "oscar_df['film'].value_counts()[:15].plot(kind=\"barh\", title=\"Most Oscar Nominated Films\")\r\n"
   ],
   "outputs": [],
   "metadata": {}
  },
  {
   "cell_type": "code",
   "execution_count": null,
   "source": [
    "oscar_df[oscar_df['film'].str.contains('Woman')]\r\n"
   ],
   "outputs": [],
   "metadata": {}
  },
  {
   "cell_type": "code",
   "execution_count": null,
   "source": [
    "# First Visualization: Data Over Time (Simplified to Hour)\r\n",
    " \r\n",
    "df['tweet_hour'] = df['time']\r\n",
    "df['tweet_hour'] = df['tweet_hour'].str.slice(0, 13)\r\n",
    "\r\n",
    "print(df['tweet_hour'][:5])\r\n",
    "\r\n",
    "df['tweet_hour'].value_counts().plot(kind='line', title = 'Tweet Volume by Hour')"
   ],
   "outputs": [],
   "metadata": {}
  },
  {
   "cell_type": "code",
   "execution_count": null,
   "source": [
    "<AxesSubplot:title={'center':'Tweet Volume by Hour'}>"
   ],
   "outputs": [],
   "metadata": {}
  },
  {
   "cell_type": "code",
   "execution_count": null,
   "source": [
    "# Second Visualization : Hashtags in the Data\r\n",
    "\r\n",
    "hashtags = df['text'].str.extractall(r'(\\#\\w+)')[0].value_counts()\r\n",
    "\r\n",
    "hashtags[1:10].plot(kind='barh', title='Top Hashtags')"
   ],
   "outputs": [],
   "metadata": {}
  },
  {
   "cell_type": "code",
   "execution_count": null,
   "source": [
    "<AxesSubplot:title={'center':'Top Hashtags'}>"
   ],
   "outputs": [],
   "metadata": {}
  },
  {
   "cell_type": "code",
   "execution_count": null,
   "source": [
    "# Third Visualization: Users\r\n",
    "\r\n",
    "df['from_user'][0:30].value_counts().plot(kind='pie', title='Top Users')"
   ],
   "outputs": [],
   "metadata": {}
  },
  {
   "cell_type": "code",
   "execution_count": null,
   "source": [
    "<AxesSubplot:title={'center':'Top Users'}, ylabel='from_user'>"
   ],
   "outputs": [],
   "metadata": {}
  },
  {
   "cell_type": "markdown",
   "source": [
    "Stage Five: Draw Comparisons and Make Claims\r\n",
    "(Think of all the methods we've used so far - what might you analyze about this dataset? This section can mostly be commentary drawing on what you've found so far)\r\n",
    "While I won't analyze this dataset here, try borrowing these methods and playing with the parameters to see what you can find!"
   ],
   "metadata": {}
  },
  {
   "cell_type": "code",
   "execution_count": null,
   "source": [],
   "outputs": [],
   "metadata": {}
  },
  {
   "cell_type": "markdown",
   "source": [
    "Bonus: Export a Meaningful Visualization\r\n",
    "(Use the guidance in the book to get started!)\r\n",
    "This requires two tools: first, we have to grab the figure itself using get_figure from whichever visualization has been most successful.\r\n",
    "\r\n",
    "Next, we can use savefig for a range of filetypes: note that long text will get cut off without using the parameters below."
   ],
   "metadata": {}
  },
  {
   "cell_type": "code",
   "execution_count": null,
   "source": [
    "fig = hashtags[1:10].plot(kind='barh', title='Top Hashtags').get_figure()\r\n",
    "fig.savefig('hashtags.png', dpi=300, bbox_inches='tight')"
   ],
   "outputs": [],
   "metadata": {}
  }
 ],
 "metadata": {
  "orig_nbformat": 4,
  "language_info": {
   "name": "python",
   "version": "3.8.8",
   "mimetype": "text/x-python",
   "codemirror_mode": {
    "name": "ipython",
    "version": 3
   },
   "pygments_lexer": "ipython3",
   "nbconvert_exporter": "python",
   "file_extension": ".py"
  },
  "kernelspec": {
   "name": "python3",
   "display_name": "Python 3.8.8 64-bit"
  },
  "interpreter": {
   "hash": "598d64e08a06bfba065a99698ec5bbec753236817de80e4f3bcf221574aa140c"
  }
 },
 "nbformat": 4,
 "nbformat_minor": 2
}