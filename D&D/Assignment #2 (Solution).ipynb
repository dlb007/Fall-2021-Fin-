{
 "cells": [
  {
   "cell_type": "code",
   "execution_count": 62,
   "source": [
    "# First (1), import the libraries you need for reading in web content. Use the model in \"WebScraping.ipynb.\" \r\n",
    "# Set the URL to a website of interest for your work: this can be anything, but will work best if it's a static site (not a social media hashtag, etc.)\r\n",
    "# boilerplate code - set up conversations with urls using a library\r\n",
    "\r\n",
    "import urllib.request, urllib.error, urllib.parse\r\n",
    "\r\n",
    "# setting up a url\r\n",
    "url = 'https://www.hollywoodreporter.com/c/tv/tv-reviews/'\r\n",
    "\r\n",
    "# boilerplate code for requesting a webpage using a url\r\n",
    "response = urllib.request.urlopen(url)\r\n",
    "webContent = response.read()\r\n",
    "\r\n",
    "print(webContent[0:1000])"
   ],
   "outputs": [
    {
     "output_type": "stream",
     "name": "stdout",
     "text": [
      "b'<!DOCTYPE html>\\n<!--[if IE 6]>\\n<html id=\"ie6\" lang=\"en-US\">\\n<![endif]-->\\n<!--[if IE 7]>\\n<html id=\"ie7\" lang=\"en-US\">\\n<![endif]-->\\n<!--[if IE 8]>\\n<html id=\"ie8\" lang=\"en-US\">\\n<![endif]-->\\n<!--[if !(IE 6) | !(IE 7) | !(IE 8) ]><!-->\\n<html lang=\"en-US\">\\n<!--<![endif]-->\\n<head>\\n\\t<meta charset=\"UTF-8\"/>\\n\\t<meta http-equiv=\"X-UA-Compatible\" content=\"IE=edge,chrome=1\">\\n\\t<meta name=\"theme-color\" content=\"#ffffff\">\\n\\t<meta name=\"viewport\" content=\"width=device-width, initial-scale=1.0\"/>\\n\\t<!-- Favicons -->\\n<link rel=\"icon\" type=\"image/png\" href=\"https://www.hollywoodreporter.com/wp-content/themes/vip/pmc-hollywoodreporter-2021/assets/app/icons/favicon.png\">\\n<link rel=\"shortcut icon\" href=\"https://www.hollywoodreporter.com/wp-content/themes/vip/pmc-hollywoodreporter-2021/assets/app/icons/favicon.ico\">\\n\\t\\n<!--\\n\\t\\t _     _ _           ____          _          _____ _    ___\\n\\t\\t| |   (_) | _____   / ___|___   __| | ___    | ____| |__|__ \\\\\\n\\t\\t| |   | | |/ / _ \\\\ | |   / _ \\\\ / _` |/ _ \\\\   |  _| | \\'_ \\\\ / /\\n\\t'\n"
     ]
    }
   ],
   "metadata": {}
  },
  {
   "cell_type": "code",
   "execution_count": 63,
   "source": [
    "# Second (2), save the website you are interested in as a file. \r\n",
    "# Name that file appropriately to the content - for instance, something like \"reviewarchive.html\" would make sense if you are pulling reviews of a movie or book. \r\n",
    "# After you run it, check that the file looks like it has the content you need. If it doesn't, try to figure out what went wrong.\r\n",
    "\r\n",
    "f = open('hollywoodreviews.html', 'wb')\r\n",
    "f.write(webContent)\r\n",
    "f.close()"
   ],
   "outputs": [],
   "metadata": {}
  },
  {
   "cell_type": "code",
   "execution_count": 64,
   "source": [
    "# Third (3), append another page of connected content: you'll need to use a modified version of the previous code, \r\n",
    "# changing the URL, and using \"append binary\" to add to the file.\r\n",
    "\r\n",
    "url = 'https://www.hollywoodreporter.com/tv/tv-reviews/clickbait-1235001883/'\r\n",
    "\r\n",
    "response = urllib.request.urlopen(url)\r\n",
    "webContent = response.read()\r\n",
    "\r\n",
    "print(webContent[0:1000])\r\n",
    "\r\n",
    "f = open('hollywoodreviews.html', 'ab')\r\n",
    "f.write(webContent)\r\n",
    "f.close()"
   ],
   "outputs": [
    {
     "output_type": "stream",
     "name": "stdout",
     "text": [
      "b'<!DOCTYPE html>\\n<!--[if IE 6]>\\n<html id=\"ie6\" lang=\"en-US\">\\n<![endif]-->\\n<!--[if IE 7]>\\n<html id=\"ie7\" lang=\"en-US\">\\n<![endif]-->\\n<!--[if IE 8]>\\n<html id=\"ie8\" lang=\"en-US\">\\n<![endif]-->\\n<!--[if !(IE 6) | !(IE 7) | !(IE 8) ]><!-->\\n<html lang=\"en-US\">\\n<!--<![endif]-->\\n<head>\\n\\t<meta charset=\"UTF-8\"/>\\n\\t<meta http-equiv=\"X-UA-Compatible\" content=\"IE=edge,chrome=1\">\\n\\t<meta name=\"theme-color\" content=\"#ffffff\">\\n\\t<meta name=\"viewport\" content=\"width=device-width, initial-scale=1.0\"/>\\n\\t<!-- Favicons -->\\n<link rel=\"icon\" type=\"image/png\" href=\"https://www.hollywoodreporter.com/wp-content/themes/vip/pmc-hollywoodreporter-2021/assets/app/icons/favicon.png\">\\n<link rel=\"shortcut icon\" href=\"https://www.hollywoodreporter.com/wp-content/themes/vip/pmc-hollywoodreporter-2021/assets/app/icons/favicon.ico\">\\n\\t\\n<!--\\n\\t\\t _     _ _           ____          _          _____ _    ___\\n\\t\\t| |   (_) | _____   / ___|___   __| | ___    | ____| |__|__ \\\\\\n\\t\\t| |   | | |/ / _ \\\\ | |   / _ \\\\ / _` |/ _ \\\\   |  _| | \\'_ \\\\ / /\\n\\t'\n"
     ]
    }
   ],
   "metadata": {}
  },
  {
   "cell_type": "code",
   "execution_count": 17,
   "source": [
    "# (Bonus Challenge), If you scraped something repetitive (for instance, I used two review pages from Rotten Tomatoes as I was testing my solution), \r\n",
    "# you'll notice you have a lot of redundancy in your file, and probably only a few things you really want. \r\n",
    "# Can you structure your data to only save the part of the webContent pull you are interested in? \r\n",
    "# (If you're new to programming or Python, or stressed for time this week, don't worry about the bonus rounds!)"
   ],
   "outputs": [],
   "metadata": {}
  },
  {
   "cell_type": "code",
   "execution_count": 65,
   "source": [
    "# Next (4), pull in the contents of the new file (with multiple pages of HTML) using our text file reading example from week one as a model. \r\n",
    "# Store those contents in a new variable, named appropriately to the contents. Print a subset of the output to confirm the import was successful.\r\n",
    "\r\n",
    "f = open(\"hollywoodreviews.html\",\"r\")\r\n",
    "reviews = f.read()\r\n",
    "print(reviews[0:1000])\r\n",
    "f.close()"
   ],
   "outputs": [
    {
     "output_type": "error",
     "ename": "UnicodeDecodeError",
     "evalue": "'charmap' codec can't decode byte 0x81 in position 206389: character maps to <undefined>",
     "traceback": [
      "\u001b[1;31m---------------------------------------------------------------------------\u001b[0m",
      "\u001b[1;31mUnicodeDecodeError\u001b[0m                        Traceback (most recent call last)",
      "\u001b[1;32m<ipython-input-65-9e5cdc72cbca>\u001b[0m in \u001b[0;36m<module>\u001b[1;34m\u001b[0m\n\u001b[0;32m      3\u001b[0m \u001b[1;33m\u001b[0m\u001b[0m\n\u001b[0;32m      4\u001b[0m \u001b[0mf\u001b[0m \u001b[1;33m=\u001b[0m \u001b[0mopen\u001b[0m\u001b[1;33m(\u001b[0m\u001b[1;34m\"hollywoodreviews.html\"\u001b[0m\u001b[1;33m,\u001b[0m\u001b[1;34m\"r\"\u001b[0m\u001b[1;33m)\u001b[0m\u001b[1;33m\u001b[0m\u001b[1;33m\u001b[0m\u001b[0m\n\u001b[1;32m----> 5\u001b[1;33m \u001b[0mreviews\u001b[0m \u001b[1;33m=\u001b[0m \u001b[0mf\u001b[0m\u001b[1;33m.\u001b[0m\u001b[0mread\u001b[0m\u001b[1;33m(\u001b[0m\u001b[1;33m)\u001b[0m\u001b[1;33m\u001b[0m\u001b[1;33m\u001b[0m\u001b[0m\n\u001b[0m\u001b[0;32m      6\u001b[0m \u001b[0mprint\u001b[0m\u001b[1;33m(\u001b[0m\u001b[0mreviews\u001b[0m\u001b[1;33m[\u001b[0m\u001b[1;36m0\u001b[0m\u001b[1;33m:\u001b[0m\u001b[1;36m1000\u001b[0m\u001b[1;33m]\u001b[0m\u001b[1;33m)\u001b[0m\u001b[1;33m\u001b[0m\u001b[1;33m\u001b[0m\u001b[0m\n\u001b[0;32m      7\u001b[0m \u001b[0mf\u001b[0m\u001b[1;33m.\u001b[0m\u001b[0mclose\u001b[0m\u001b[1;33m(\u001b[0m\u001b[1;33m)\u001b[0m\u001b[1;33m\u001b[0m\u001b[1;33m\u001b[0m\u001b[0m\n",
      "\u001b[1;32m~\\anaconda3\\lib\\encodings\\cp1252.py\u001b[0m in \u001b[0;36mdecode\u001b[1;34m(self, input, final)\u001b[0m\n\u001b[0;32m     21\u001b[0m \u001b[1;32mclass\u001b[0m \u001b[0mIncrementalDecoder\u001b[0m\u001b[1;33m(\u001b[0m\u001b[0mcodecs\u001b[0m\u001b[1;33m.\u001b[0m\u001b[0mIncrementalDecoder\u001b[0m\u001b[1;33m)\u001b[0m\u001b[1;33m:\u001b[0m\u001b[1;33m\u001b[0m\u001b[1;33m\u001b[0m\u001b[0m\n\u001b[0;32m     22\u001b[0m     \u001b[1;32mdef\u001b[0m \u001b[0mdecode\u001b[0m\u001b[1;33m(\u001b[0m\u001b[0mself\u001b[0m\u001b[1;33m,\u001b[0m \u001b[0minput\u001b[0m\u001b[1;33m,\u001b[0m \u001b[0mfinal\u001b[0m\u001b[1;33m=\u001b[0m\u001b[1;32mFalse\u001b[0m\u001b[1;33m)\u001b[0m\u001b[1;33m:\u001b[0m\u001b[1;33m\u001b[0m\u001b[1;33m\u001b[0m\u001b[0m\n\u001b[1;32m---> 23\u001b[1;33m         \u001b[1;32mreturn\u001b[0m \u001b[0mcodecs\u001b[0m\u001b[1;33m.\u001b[0m\u001b[0mcharmap_decode\u001b[0m\u001b[1;33m(\u001b[0m\u001b[0minput\u001b[0m\u001b[1;33m,\u001b[0m\u001b[0mself\u001b[0m\u001b[1;33m.\u001b[0m\u001b[0merrors\u001b[0m\u001b[1;33m,\u001b[0m\u001b[0mdecoding_table\u001b[0m\u001b[1;33m)\u001b[0m\u001b[1;33m[\u001b[0m\u001b[1;36m0\u001b[0m\u001b[1;33m]\u001b[0m\u001b[1;33m\u001b[0m\u001b[1;33m\u001b[0m\u001b[0m\n\u001b[0m\u001b[0;32m     24\u001b[0m \u001b[1;33m\u001b[0m\u001b[0m\n\u001b[0;32m     25\u001b[0m \u001b[1;32mclass\u001b[0m \u001b[0mStreamWriter\u001b[0m\u001b[1;33m(\u001b[0m\u001b[0mCodec\u001b[0m\u001b[1;33m,\u001b[0m\u001b[0mcodecs\u001b[0m\u001b[1;33m.\u001b[0m\u001b[0mStreamWriter\u001b[0m\u001b[1;33m)\u001b[0m\u001b[1;33m:\u001b[0m\u001b[1;33m\u001b[0m\u001b[1;33m\u001b[0m\u001b[0m\n",
      "\u001b[1;31mUnicodeDecodeError\u001b[0m: 'charmap' codec can't decode byte 0x81 in position 206389: character maps to <undefined>"
     ]
    }
   ],
   "metadata": {}
  },
  {
   "cell_type": "code",
   "execution_count": 15,
   "source": [
    "f = open('Screenadaptation.txt','r')\r\n",
    "message = f.read()\r\n",
    "print(message)\r\n",
    "f.close()"
   ],
   "outputs": [
    {
     "output_type": "stream",
     "name": "stdout",
     "text": [
      "Screen Adaptation\n"
     ]
    }
   ],
   "metadata": {}
  },
  {
   "cell_type": "code",
   "execution_count": 16,
   "source": [
    "# file-append.py\r\n",
    "f = open('Screenadaptation.txt','a')\r\n",
    "f.write('\\n' + 'Screen Adaptation')\r\n",
    "f.close()"
   ],
   "outputs": [],
   "metadata": {}
  },
  {
   "cell_type": "code",
   "execution_count": 47,
   "source": [
    "# Finally (5), use the examples in \"Conditionals.ipynb\" and \"PlayingWithStrings.ipynb\" to run at least five simple data analyses commands on your content \r\n",
    "# and print the results with an explanatory statement, as in the examples. Here's a few suggestions to try, but feel free to expand on them.\r\n",
    "\r\n",
    "# 1. Count and print the occurences of a key word\r\n",
    "\r\n",
    "print(\"Occurences of Clickbait : \" + str(reviews.count(\"Clickbait\")))\r\n",
    "\r\n",
    "# 2. Split your dataset into strings based on word spacing, and print some of the words to view the set\r\n",
    "\r\n",
    "split_reviews = reviews.split(\" \")\r\n",
    "print(split_reviews[800:803])\r\n",
    "\r\n",
    "# 3. Locate the index of a word of interest, then print the phrase surrounding it\r\n",
    "\r\n",
    "Adrian = split_reviews.index(\"Adrian\")\r\n",
    "print(split_reviews[Adrian-10:Adrian+10])\r\n",
    "\r\n",
    "# # 4. Compare the number of occurences of two significant words, such as character names, using a conditional statement. \r\n",
    "# The printed statement should be different for each outcome, and handle the case where the numbers are the same (try using if, elif, and else)\r\n",
    "\r\n",
    "Adrian_count = reviews.count(\"Adrian\")\r\n",
    "Zoe_count = reviews.count(\"Zoe\")\r\n",
    "\r\n",
    "if zoe_count > adrian_count:\r\n",
    "    print(\"The protagonist is oe\")\r\n",
    "elif adrian_count > zoe_count:\r\n",
    "    print(\"Is the protagonist Zoe?\")\r\n",
    "else:\r\n",
    "    print(\"Apparently there is no protagonist.\")\r\n",
    "\r\n",
    "# 4. Search for a word and use \"in\" to print true if the word is found\r\n",
    "\r\n",
    "app = \"app\" in reviews\r\n",
    "print(\"Are there apps? \" + str(app))"
   ],
   "outputs": [
    {
     "output_type": "error",
     "ename": "NameError",
     "evalue": "name 'reviews' is not defined",
     "traceback": [
      "\u001b[1;31m---------------------------------------------------------------------------\u001b[0m",
      "\u001b[1;31mNameError\u001b[0m                                 Traceback (most recent call last)",
      "\u001b[1;32m<ipython-input-47-f4a9904ba446>\u001b[0m in \u001b[0;36m<module>\u001b[1;34m\u001b[0m\n\u001b[0;32m      4\u001b[0m \u001b[1;31m# 1. Count and print the occurences of a key word\u001b[0m\u001b[1;33m\u001b[0m\u001b[1;33m\u001b[0m\u001b[1;33m\u001b[0m\u001b[0m\n\u001b[0;32m      5\u001b[0m \u001b[1;33m\u001b[0m\u001b[0m\n\u001b[1;32m----> 6\u001b[1;33m \u001b[0mprint\u001b[0m\u001b[1;33m(\u001b[0m\u001b[1;34m\"Occurences of Clickbait : \"\u001b[0m \u001b[1;33m+\u001b[0m \u001b[0mstr\u001b[0m\u001b[1;33m(\u001b[0m\u001b[0mreviews\u001b[0m\u001b[1;33m.\u001b[0m\u001b[0mcount\u001b[0m\u001b[1;33m(\u001b[0m\u001b[1;34m\"Clickbait\"\u001b[0m\u001b[1;33m)\u001b[0m\u001b[1;33m)\u001b[0m\u001b[1;33m)\u001b[0m\u001b[1;33m\u001b[0m\u001b[1;33m\u001b[0m\u001b[0m\n\u001b[0m\u001b[0;32m      7\u001b[0m \u001b[1;33m\u001b[0m\u001b[0m\n\u001b[0;32m      8\u001b[0m \u001b[1;31m# 2. Split your dataset into strings based on word spacing, and print some of the words to view the set\u001b[0m\u001b[1;33m\u001b[0m\u001b[1;33m\u001b[0m\u001b[1;33m\u001b[0m\u001b[0m\n",
      "\u001b[1;31mNameError\u001b[0m: name 'reviews' is not defined"
     ]
    }
   ],
   "metadata": {}
  },
  {
   "cell_type": "code",
   "execution_count": 20,
   "source": [
    "print(\"Upper case: \" + our_string.upper())\r\n",
    "print(\"Lower case: \" + our_string.lower())"
   ],
   "outputs": [
    {
     "output_type": "stream",
     "name": "stdout",
     "text": [
      "Upper case: SCREEN ADAPTATION\n",
      "Lower case: screen adaptation\n"
     ]
    }
   ],
   "metadata": {}
  },
  {
   "cell_type": "code",
   "execution_count": 31,
   "source": [
    "x = 1\r\n",
    "y = 2\r\n",
    "name = \"Dracula\"\r\n",
    "age = 1001\r\n",
    "print(x == y)\r\n",
    "print(x == 2)\r\n",
    "print(x < y)"
   ],
   "outputs": [
    {
     "output_type": "stream",
     "name": "stdout",
     "text": [
      "False\n",
      "False\n",
      "True\n"
     ]
    }
   ],
   "metadata": {}
  },
  {
   "cell_type": "code",
   "execution_count": 34,
   "source": [
    "# (5 Cont.)\r\n",
    "# 4. Compare the number of occurences of two significant words, such as character names, using a conditional statement. \r\n",
    "# The printed statement should be different for each outcome, and handle the case where the numbers are the same (try using if, elif, and else)\r\n",
    "\r\n",
    "# Comparison -Arrays (defining []) strings, etc.\r\n",
    "Hollywood = [\"Dracula\",\"Sherlock Homes\"]\r\n",
    "Bollywood = [\"Angoor\",\"The Lion King\"]\r\n",
    "# checks two conditions (name and age)\r\n",
    "# == asking\r\n",
    "if name == \"Sherlock Homes\" and age == 1001:\r\n",
    "    print(\"Dracula verified.\")\r\n",
    "\r\n",
    "# checks two conditions and is true if at least one is true\r\n",
    "if name == \"Sherlock Homes\" or age == 1001:\r\n",
    "    print(\"Possibly Sherlock Homes.\")\r\n",
    "\r\n",
    "# 5. Search for a word and use \"in\" to print true if the word is found\r\n",
    "\r\n",
    "# check if name exists in array, true if it does \"in\" keyword\r\n",
    "# if name isn't in that thing, check if instead it's in rubbles\r\n",
    "# if it isn't in either thing, print that it isn't a character\r\n",
    "if name in Hollywood:\r\n",
    "    print(\"Found Hollywood.\")\r\n",
    "elif name in Bollywood:\r\n",
    "    print(\"Found Bollywood.\")\r\n",
    "else:\r\n",
    "    print(\"Not a character.\")"
   ],
   "outputs": [
    {
     "output_type": "stream",
     "name": "stdout",
     "text": [
      "Possibly Sherlock Homes.\n",
      "Found Hollywood.\n"
     ]
    }
   ],
   "metadata": {}
  },
  {
   "cell_type": "code",
   "execution_count": 35,
   "source": [
    "name = \"Angoor\"\r\n",
    "age = 23\r\n",
    "\r\n",
    "rubble = name in Bollywood\r\n",
    "print(Bollywood)\r\n",
    "print(not Bollywood)"
   ],
   "outputs": [
    {
     "output_type": "stream",
     "name": "stdout",
     "text": [
      "['Angoor', 'The Lion King']\n",
      "False\n"
     ]
    }
   ],
   "metadata": {}
  }
 ],
 "metadata": {
  "orig_nbformat": 4,
  "language_info": {
   "name": "python",
   "version": "3.8.8",
   "mimetype": "text/x-python",
   "codemirror_mode": {
    "name": "ipython",
    "version": 3
   },
   "pygments_lexer": "ipython3",
   "nbconvert_exporter": "python",
   "file_extension": ".py"
  },
  "kernelspec": {
   "name": "python3",
   "display_name": "Python 3.8.8 64-bit ('base': conda)"
  },
  "interpreter": {
   "hash": "598d64e08a06bfba065a99698ec5bbec753236817de80e4f3bcf221574aa140c"
  }
 },
 "nbformat": 4,
 "nbformat_minor": 2
}