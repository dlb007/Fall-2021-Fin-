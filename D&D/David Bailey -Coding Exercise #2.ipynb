{
 "cells": [
  {
   "cell_type": "code",
   "execution_count": 1,
   "source": [
    "# First (1)\r\n",
    "# import the libraries you need for reading in web content. Use the model in \"WebScraping.ipynb.\" \r\n",
    "# Set the URL to a website of interest for your work: this can be anything, \r\n",
    "# but will work best if it's a static site (not a social media hashtag, etc.)\r\n",
    "# boilerplate code - set up conversations with urls using a library\r\n",
    "\r\n",
    "import urllib.request, urllib.error, urllib.parse\r\n",
    "\r\n",
    "# setting up a url - replace me!\r\n",
    "url = 'https://researchguides.dartmouth.edu/filmstudies/adaptations'\r\n",
    "\r\n",
    "# boilerplate code for requesting a webpage using a url\r\n",
    "response = urllib.request.urlopen(url)\r\n",
    "webContent = response.read()\r\n",
    "\r\n",
    "print(webContent[0:1000])"
   ],
   "outputs": [
    {
     "output_type": "stream",
     "name": "stdout",
     "text": [
      "b'<!DOCTYPE html><html lang=\"en\"><head><meta http-equiv=\"X-UA-Compatible\" content=\"IE=Edge\" /><meta http-equiv=\"Content-Type\" content=\"text/html; charset=utf-8\" /><title>Film adaptations - Film Studies - Research Guides at Dartmouth College</title><meta name=\"viewport\" content=\"width=device-width, initial-scale=1.0\"><meta name=\"robots\" content=\"noarchive\" /><!-- favicon.twig -->\\n<link rel=\"apple-touch-icon\" sizes=\"180x180\" href=\"//libapps.s3.amazonaws.com/apps/common/favicon/apple-touch-icon.png\">\\n<link rel=\"icon\" type=\"image/png\" sizes=\"32x32\" href=\"//libapps.s3.amazonaws.com/apps/common/favicon/favicon-32x32.png\">\\n<link rel=\"icon\" type=\"image/png\" sizes=\"16x16\" href=\"//libapps.s3.amazonaws.com/apps/common/favicon/favicon-16x16.png\">\\n<link rel=\"manifest\" href=\"//libapps.s3.amazonaws.com/apps/common/favicon/site.webmanifest\">\\n<link rel=\"mask-icon\" href=\"//libapps.s3.amazonaws.com/apps/common/favicon/safari-pinned-tab.svg\" color=\"#5bbad5\">\\n<link rel=\"shortcut icon\" href=\"//libapps.s3.amaz'\n"
     ]
    }
   ],
   "metadata": {}
  },
  {
   "cell_type": "code",
   "execution_count": 2,
   "source": [
    "# Second (2) \r\n",
    "# save the website you are interested in as a file. \r\n",
    "# Name that file appropriately to the content - for instance, something like \"reviewarchive.html\" would make sense if you are pulling reviews of a movie or book. \r\n",
    "# After you run it, check that the file looks like it has the content you need. \r\n",
    "# If it doesn't, try to figure out what went wrong.\r\n",
    "\r\n",
    "url = 'https://researchguides.dartmouth.edu/filmstudies/adaptations'\r\n",
    "\r\n",
    "response = urllib.request.urlopen(url)\r\n",
    "webContent = response.read()\r\n",
    "\r\n",
    "f = open('screenadaptation.html', 'wb')\r\n",
    "f.write(webContent)\r\n",
    "f.close()"
   ],
   "outputs": [],
   "metadata": {}
  },
  {
   "cell_type": "code",
   "execution_count": 3,
   "source": [
    "# Third (3) \r\n",
    "# append another page of connected content: you'll need to use a modified version of the previous code, changing the URL, and using \"append binary\" to add to the file.\r\n",
    "\r\n",
    "# Second, save the website you are interested in as a file. \r\n",
    "# Name that file appropriately to the content - for instance, something like \"reviewarchive.html\" would make sense if you are pulling reviews of a movie or book. \r\n",
    "# After you run it, check that the file looks like it has the content you need. \r\n",
    "# If it doesn't, try to figure out what went wrong.\r\n",
    "\r\n",
    "url = 'https://search.library.dartmouth.edu/discovery/fulldisplay?context=L&vid=01DCL_INST:01DCL&docid=alma991027986879705706'\r\n",
    "\r\n",
    "response = urllib.request.urlopen(url)\r\n",
    "webContent = response.read()\r\n",
    "\r\n",
    "f = open('texttoscreenscreentotext.html', 'ab')\r\n",
    "f.write(webContent)\r\n",
    "f.close()"
   ],
   "outputs": [],
   "metadata": {}
  },
  {
   "cell_type": "code",
   "execution_count": 4,
   "source": [
    "# (Bonus Challenge) \r\n",
    "# If you scraped something repetitive (for instance, I used two review pages from Rotten Tomatoes as I was testing my solution), \r\n",
    "# you'll notice you have a lot of redundancy in your file, and probably only a few things you really want. \r\n",
    "# Can you structure your data to only save the part of the webContent pull you are interested in? \r\n",
    "# (If you're new to programming or Python, or stressed for time this week, don't worry about the bonus rounds!)\r\n",
    "\r\n",
    "# Split can be used with any input you want\r\n",
    "# Array -ordered list of words instead of and ordered list of characters\r\n",
    "# box 1 split (again) from original string\r\n",
    "\r\n",
    "our_string = \"Screen Adaptation\"\r\n",
    "print(our_string)"
   ],
   "outputs": [
    {
     "output_type": "stream",
     "name": "stdout",
     "text": [
      "Screen Adaptation\n"
     ]
    }
   ],
   "metadata": {}
  },
  {
   "cell_type": "code",
   "execution_count": 5,
   "source": [
    "our_length = len(our_string)\r\n",
    "print(\"Length: \" + str(our_length))"
   ],
   "outputs": [
    {
     "output_type": "stream",
     "name": "stdout",
     "text": [
      "Length: 17\n"
     ]
    }
   ],
   "metadata": {}
  },
  {
   "cell_type": "code",
   "execution_count": 6,
   "source": [
    "print(\"Index of a: \" + str(our_string.index(\"a\")))\r\n",
    "print(\"Occurences of l: \" + str(our_string.count(\"l\")))\r\n",
    "print(\"Slice from index 3 to 8: \" + our_string[3:8])"
   ],
   "outputs": [
    {
     "output_type": "stream",
     "name": "stdout",
     "text": [
      "Index of a: 9\n",
      "Occurences of l: 0\n",
      "Slice from index 3 to 8: een A\n"
     ]
    }
   ],
   "metadata": {}
  },
  {
   "cell_type": "code",
   "execution_count": 7,
   "source": [
    "print(\"Upper case: \" + our_string.upper())\r\n",
    "print(\"Lower case: \" + our_string.lower())"
   ],
   "outputs": [
    {
     "output_type": "stream",
     "name": "stdout",
     "text": [
      "Upper case: SCREEN ADAPTATION\n",
      "Lower case: screen adaptation\n"
     ]
    }
   ],
   "metadata": {}
  },
  {
   "cell_type": "code",
   "execution_count": 8,
   "source": [
    "print(our_string[::-1])"
   ],
   "outputs": [
    {
     "output_type": "stream",
     "name": "stdout",
     "text": [
      "noitatpadA neercS\n"
     ]
    }
   ],
   "metadata": {}
  },
  {
   "cell_type": "code",
   "execution_count": 9,
   "source": [
    "split_string = our_string.split(\" \")\r\n",
    "print(split_string[1])"
   ],
   "outputs": [
    {
     "output_type": "stream",
     "name": "stdout",
     "text": [
      "Adaptation\n"
     ]
    }
   ],
   "metadata": {}
  },
  {
   "cell_type": "code",
   "execution_count": 13,
   "source": [
    "print(our_string.startswith(\"Screen\"))\r\n",
    "print(our_string.endswith(\"Adaptation\"))"
   ],
   "outputs": [
    {
     "output_type": "stream",
     "name": "stdout",
     "text": [
      "True\n",
      "True\n"
     ]
    }
   ],
   "metadata": {}
  },
  {
   "cell_type": "code",
   "execution_count": 14,
   "source": [
    "# Next (4)\r\n",
    "# Next, pull in the contents of the new file (with multiple pages of HTML) using our text file reading example from week one as a model. \r\n",
    "# Store those contents in a new variable, named appropriately to the contents. Print a subset of the output to confirm the import was successful.\r\n",
    "\r\n",
    "f = open('Screenadaptation.txt','w')\r\n",
    "f.write('Screen Adaptation')\r\n",
    "f.close()"
   ],
   "outputs": [],
   "metadata": {}
  },
  {
   "cell_type": "code",
   "execution_count": 15,
   "source": [
    "f = open('Screenadaptation.txt','r')\r\n",
    "message = f.read()\r\n",
    "print(message)\r\n",
    "f.close()"
   ],
   "outputs": [
    {
     "output_type": "stream",
     "name": "stdout",
     "text": [
      "Screen Adaptation\n"
     ]
    }
   ],
   "metadata": {}
  },
  {
   "cell_type": "code",
   "execution_count": 16,
   "source": [
    "# file-append.py\r\n",
    "f = open('Screenadaptation.txt','a')\r\n",
    "f.write('\\n' + 'Screen Adaptation')\r\n",
    "f.close()"
   ],
   "outputs": [],
   "metadata": {}
  },
  {
   "cell_type": "code",
   "execution_count": 19,
   "source": [
    "# Finally (5)\r\n",
    "# Finally, use the examples in \"Conditionals.ipynb\" and \"PlayingWithStrings.ipynb\" to run at least five simple data analyses commands on your content \r\n",
    "# and print the results with an explanatory statement, as in the examples. Here's a few suggestions to try, but feel free to expand on them.\r\n",
    "\r\n",
    "# 1. Count and print the occurences of a key word\r\n",
    "\r\n",
    "# 2. Split your dataset into strings based on word spacing, and print some of the words to view the set\r\n",
    "\r\n",
    "# 3. Locate the index of a word of interest, then print the phrase surrounding it\r\n",
    "\r\n",
    "\r\n",
    "# Comparisons to help determine what we need to do with them (Conditional Statements)\r\n",
    "# make sur ecompare stings to strings and intergers to intergers, etc.\r\n",
    "# double =='s are comparisons\r\n",
    "\r\n",
    "print(\"Index of a: \" + str(our_string.index(\"a\")))\r\n",
    "print(\"Occurences of l: \" + str(our_string.count(\"l\")))\r\n",
    "print(\"Slice from index 2 to 10: \" + our_string[2:10])"
   ],
   "outputs": [
    {
     "output_type": "stream",
     "name": "stdout",
     "text": [
      "Index of a: 9\n",
      "Occurences of l: 0\n",
      "Slice from index 2 to 10: reen Ada\n"
     ]
    }
   ],
   "metadata": {}
  },
  {
   "cell_type": "code",
   "execution_count": 20,
   "source": [
    "print(\"Upper case: \" + our_string.upper())\r\n",
    "print(\"Lower case: \" + our_string.lower())"
   ],
   "outputs": [
    {
     "output_type": "stream",
     "name": "stdout",
     "text": [
      "Upper case: SCREEN ADAPTATION\n",
      "Lower case: screen adaptation\n"
     ]
    }
   ],
   "metadata": {}
  },
  {
   "cell_type": "code",
   "execution_count": 31,
   "source": [
    "x = 1\r\n",
    "y = 2\r\n",
    "name = \"Dracula\"\r\n",
    "age = 1001\r\n",
    "print(x == y)\r\n",
    "print(x == 2)\r\n",
    "print(x < y)"
   ],
   "outputs": [
    {
     "output_type": "stream",
     "name": "stdout",
     "text": [
      "False\n",
      "False\n",
      "True\n"
     ]
    }
   ],
   "metadata": {}
  },
  {
   "cell_type": "code",
   "execution_count": 34,
   "source": [
    "# (5 Cont.)\r\n",
    "# 4. Compare the number of occurences of two significant words, such as character names, using a conditional statement. \r\n",
    "# The printed statement should be different for each outcome, and handle the case where the numbers are the same (try using if, elif, and else)\r\n",
    "\r\n",
    "# Comparison -Arrays (defining []) strings, etc.\r\n",
    "Hollywood = [\"Dracula\",\"Sherlock Homes\"]\r\n",
    "Bollywood = [\"Angoor\",\"The Lion King\"]\r\n",
    "# checks two conditions (name and age)\r\n",
    "# == asking\r\n",
    "if name == \"Sherlock Homes\" and age == 1001:\r\n",
    "    print(\"Dracula verified.\")\r\n",
    "\r\n",
    "# checks two conditions and is true if at least one is true\r\n",
    "if name == \"Sherlock Homes\" or age == 1001:\r\n",
    "    print(\"Possibly Sherlock Homes.\")\r\n",
    "\r\n",
    "# 5. Search for a word and use \"in\" to print true if the word is found\r\n",
    "\r\n",
    "# check if name exists in array, true if it does \"in\" keyword\r\n",
    "# if name isn't in that thing, check if instead it's in rubbles\r\n",
    "# if it isn't in either thing, print that it isn't a character\r\n",
    "if name in Hollywood:\r\n",
    "    print(\"Found Hollywood.\")\r\n",
    "elif name in Bollywood:\r\n",
    "    print(\"Found Bollywood.\")\r\n",
    "else:\r\n",
    "    print(\"Not a character.\")"
   ],
   "outputs": [
    {
     "output_type": "stream",
     "name": "stdout",
     "text": [
      "Possibly Sherlock Homes.\n",
      "Found Hollywood.\n"
     ]
    }
   ],
   "metadata": {}
  },
  {
   "cell_type": "code",
   "execution_count": 35,
   "source": [
    "name = \"Angoor\"\r\n",
    "age = 23\r\n",
    "\r\n",
    "rubble = name in Bollywood\r\n",
    "print(Bollywood)\r\n",
    "print(not Bollywood)"
   ],
   "outputs": [
    {
     "output_type": "stream",
     "name": "stdout",
     "text": [
      "['Angoor', 'The Lion King']\n",
      "False\n"
     ]
    }
   ],
   "metadata": {}
  }
 ],
 "metadata": {
  "orig_nbformat": 4,
  "language_info": {
   "name": "python",
   "version": "3.8.8",
   "mimetype": "text/x-python",
   "codemirror_mode": {
    "name": "ipython",
    "version": 3
   },
   "pygments_lexer": "ipython3",
   "nbconvert_exporter": "python",
   "file_extension": ".py"
  },
  "kernelspec": {
   "name": "python3",
   "display_name": "Python 3.8.8 64-bit ('base': conda)"
  },
  "interpreter": {
   "hash": "598d64e08a06bfba065a99698ec5bbec753236817de80e4f3bcf221574aa140c"
  }
 },
 "nbformat": 4,
 "nbformat_minor": 2
}